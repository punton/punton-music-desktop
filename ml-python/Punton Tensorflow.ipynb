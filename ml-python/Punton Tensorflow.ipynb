{
 "cells": [
  {
   "cell_type": "code",
   "execution_count": 1,
   "metadata": {
    "collapsed": true
   },
   "outputs": [],
   "source": [
    "import numpy as np\n",
    "import matplotlib.pyplot as plt\n",
    "%matplotlib inline"
   ]
  },
  {
   "cell_type": "code",
   "execution_count": 2,
   "metadata": {
    "collapsed": true
   },
   "outputs": [],
   "source": [
    "import tensorflow as tf"
   ]
  },
  {
   "cell_type": "code",
   "execution_count": 3,
   "metadata": {
    "collapsed": true
   },
   "outputs": [],
   "source": [
    "tf.reset_default_graph() "
   ]
  },
  {
   "cell_type": "code",
   "execution_count": 4,
   "metadata": {},
   "outputs": [],
   "source": [
    "#Parameter\n",
    "num_inputs = 1024\n",
    "hidden1 = 256 \n",
    "hidden2 = 128\n",
    "hidden3 = 8\n",
    "hidden4 = 128\n",
    "hidden5 = 256\n",
    "output = 1024\n",
    "\n",
    "#activation function\n",
    "activate = tf.nn.relu\n",
    "\n",
    "#weight initializer\n",
    "initializer = tf.variance_scaling_initializer()\n",
    "\n",
    "#weight\n",
    "w1 = tf.Variable(initializer([num_inputs,hidden1]), dtype=tf.float32)\n",
    "w2 = tf.Variable(initializer([hidden1,hidden2]), dtype=tf.float32)\n",
    "w3 = tf.Variable(initializer([hidden2,hidden3]), dtype=tf.float32)\n",
    "w4 = tf.Variable(initializer([hidden3,hidden4]), dtype=tf.float32)\n",
    "w5 = tf.Variable(initializer([hidden4,hidden5]), dtype=tf.float32)\n",
    "w6 = tf.Variable(initializer([hidden5,output]), dtype=tf.float32)\n",
    "\n",
    "#bias\n",
    "b1 = tf.Variable(tf.zeros(hidden1))\n",
    "b2 = tf.Variable(tf.zeros(hidden2))\n",
    "b3 = tf.Variable(tf.zeros(hidden3))\n",
    "b4 = tf.Variable(tf.zeros(hidden4))\n",
    "b5 = tf.Variable(tf.zeros(hidden5))\n",
    "b6 = tf.Variable(tf.zeros(output))\n"
   ]
  },
  {
   "cell_type": "code",
   "execution_count": 5,
   "metadata": {
    "collapsed": true
   },
   "outputs": [],
   "source": [
    "#Placeholder\n",
    "X = tf.placeholder(tf.float32,shape=[None,num_inputs])"
   ]
  },
  {
   "cell_type": "code",
   "execution_count": 6,
   "metadata": {
    "collapsed": true
   },
   "outputs": [],
   "source": [
    "#Layer\n",
    "hid_layer1 = activate(tf.matmul(X , w1) + b1)\n",
    "hid_layer2 = activate(tf.matmul(hid_layer1,w2) + b2)\n",
    "hid_layer3 = activate(tf.matmul(hid_layer2,w3) + b3)\n",
    "hid_layer4 = activate(tf.matmul(hid_layer3,w4) + b4)\n",
    "hid_layer5 = activate(tf.matmul(hid_layer4,w5) + b5)\n",
    "output_layer = activate(tf.matmul(hid_layer5,w6) + b6)\n",
    "\n",
    "\n"
   ]
  },
  {
   "cell_type": "code",
   "execution_count": 93,
   "metadata": {},
   "outputs": [],
   "source": [
    "#loss function\n",
    "loss = tf.reduce_mean(tf.square(output_layer - X))\n",
    "#optimizer\n",
    "learning_rate = 0.1\n",
    "optimizer = tf.train.AdamOptimizer(learning_rate)"
   ]
  },
  {
   "cell_type": "code",
   "execution_count": 94,
   "metadata": {},
   "outputs": [],
   "source": [
    "train = optimizer.minimize(loss)"
   ]
  },
  {
   "cell_type": "code",
   "execution_count": 69,
   "metadata": {
    "collapsed": true
   },
   "outputs": [],
   "source": [
    "import json"
   ]
  },
  {
   "cell_type": "code",
   "execution_count": 10,
   "metadata": {},
   "outputs": [
    {
     "ename": "ValueError",
     "evalue": "all the input array dimensions except for the concatenation axis must match exactly",
     "output_type": "error",
     "traceback": [
      "\u001b[1;31m-------------------------------------------------------------\u001b[0m",
      "\u001b[1;31mValueError\u001b[0m                  Traceback (most recent call last)",
      "\u001b[1;32m<ipython-input-10-0652a73f1869>\u001b[0m in \u001b[0;36m<module>\u001b[1;34m()\u001b[0m\n\u001b[0;32m     20\u001b[0m \u001b[1;33m\u001b[0m\u001b[0m\n\u001b[0;32m     21\u001b[0m \u001b[1;32mfor\u001b[0m \u001b[0mitem\u001b[0m \u001b[1;32min\u001b[0m \u001b[0mdata\u001b[0m\u001b[1;33m:\u001b[0m\u001b[1;33m\u001b[0m\u001b[0m\n\u001b[1;32m---> 22\u001b[1;33m     \u001b[0mall_data\u001b[0m \u001b[1;33m=\u001b[0m \u001b[0mnp\u001b[0m\u001b[1;33m.\u001b[0m\u001b[0mvstack\u001b[0m\u001b[1;33m(\u001b[0m\u001b[1;33m(\u001b[0m\u001b[0mall_data\u001b[0m \u001b[1;33m,\u001b[0m \u001b[0mitem\u001b[0m\u001b[1;33m[\u001b[0m\u001b[1;34m'wave'\u001b[0m\u001b[1;33m]\u001b[0m\u001b[1;33m)\u001b[0m\u001b[1;33m)\u001b[0m\u001b[1;33m\u001b[0m\u001b[0m\n\u001b[0m\u001b[0;32m     23\u001b[0m \u001b[1;33m\u001b[0m\u001b[0m\n\u001b[0;32m     24\u001b[0m \u001b[1;31m# for item in data:\u001b[0m\u001b[1;33m\u001b[0m\u001b[1;33m\u001b[0m\u001b[0m\n",
      "\u001b[1;32m~\\Anaconda3\\envs\\tfdeeplearning\\lib\\site-packages\\numpy\\core\\shape_base.py\u001b[0m in \u001b[0;36mvstack\u001b[1;34m(tup)\u001b[0m\n\u001b[0;32m    235\u001b[0m \u001b[1;33m\u001b[0m\u001b[0m\n\u001b[0;32m    236\u001b[0m     \"\"\"\n\u001b[1;32m--> 237\u001b[1;33m     \u001b[1;32mreturn\u001b[0m \u001b[0m_nx\u001b[0m\u001b[1;33m.\u001b[0m\u001b[0mconcatenate\u001b[0m\u001b[1;33m(\u001b[0m\u001b[1;33m[\u001b[0m\u001b[0matleast_2d\u001b[0m\u001b[1;33m(\u001b[0m\u001b[0m_m\u001b[0m\u001b[1;33m)\u001b[0m \u001b[1;32mfor\u001b[0m \u001b[0m_m\u001b[0m \u001b[1;32min\u001b[0m \u001b[0mtup\u001b[0m\u001b[1;33m]\u001b[0m\u001b[1;33m,\u001b[0m \u001b[1;36m0\u001b[0m\u001b[1;33m)\u001b[0m\u001b[1;33m\u001b[0m\u001b[0m\n\u001b[0m\u001b[0;32m    238\u001b[0m \u001b[1;33m\u001b[0m\u001b[0m\n\u001b[0;32m    239\u001b[0m \u001b[1;32mdef\u001b[0m \u001b[0mhstack\u001b[0m\u001b[1;33m(\u001b[0m\u001b[0mtup\u001b[0m\u001b[1;33m)\u001b[0m\u001b[1;33m:\u001b[0m\u001b[1;33m\u001b[0m\u001b[0m\n",
      "\u001b[1;31mValueError\u001b[0m: all the input array dimensions except for the concatenation axis must match exactly"
     ]
    }
   ],
   "source": [
    "with open('16ksongs.json',encoding='utf-8') as f:\n",
    "    data = json.load(f)\n",
    "for record in data:\n",
    "    newList = []\n",
    "    record['waveMax'] = record['waveMax'] [1:][:-1]\n",
    "    record['waveMin'] = record['waveMin'] [1:][:-1]\n",
    "    waveMax = record['waveMax'].split(\",\")\n",
    "    waveMin = record['waveMin'].split(\",\")\n",
    "    if len(waveMax) == 1025:\n",
    "        waveMax.pop()\n",
    "        waveMin.pop()\n",
    "    for index, value in enumerate(waveMax):\n",
    "        value = (float(waveMin[index])+float(waveMax[index]) )\n",
    "        value /= 2\n",
    "        newList.append(value)\n",
    "    record['wave'] = np.array(newList)\n",
    "#     print(record['name'])\n",
    "    \n",
    "all_data= data.pop(0)['wave']\n",
    "\n",
    "for item in data:\n",
    "    all_data = np.vstack((all_data , item['wave']))\n",
    "\n",
    "# for item in data:\n",
    "#     all_data = np.vstack"
   ]
  },
  {
   "cell_type": "code",
   "execution_count": 47,
   "metadata": {},
   "outputs": [
    {
     "ename": "KeyboardInterrupt",
     "evalue": "",
     "output_type": "error",
     "traceback": [
      "\u001b[1;31m-------------------------------------------------------------\u001b[0m",
      "\u001b[1;31mKeyboardInterrupt\u001b[0m           Traceback (most recent call last)",
      "\u001b[1;32m<ipython-input-47-3f1b22300bdd>\u001b[0m in \u001b[0;36m<module>\u001b[1;34m()\u001b[0m\n\u001b[0;32m      2\u001b[0m \u001b[1;33m\u001b[0m\u001b[0m\n\u001b[0;32m      3\u001b[0m \u001b[1;32mfor\u001b[0m \u001b[0mitem\u001b[0m \u001b[1;32min\u001b[0m \u001b[0mdata\u001b[0m\u001b[1;33m:\u001b[0m\u001b[1;33m\u001b[0m\u001b[0m\n\u001b[1;32m----> 4\u001b[1;33m     \u001b[0mall_data\u001b[0m \u001b[1;33m=\u001b[0m \u001b[0mnp\u001b[0m\u001b[1;33m.\u001b[0m\u001b[0mvstack\u001b[0m\u001b[1;33m(\u001b[0m\u001b[1;33m(\u001b[0m\u001b[0mall_data\u001b[0m \u001b[1;33m,\u001b[0m \u001b[0mitem\u001b[0m\u001b[1;33m[\u001b[0m\u001b[1;34m'wave'\u001b[0m\u001b[1;33m]\u001b[0m\u001b[1;33m)\u001b[0m\u001b[1;33m)\u001b[0m\u001b[1;33m\u001b[0m\u001b[0m\n\u001b[0m",
      "\u001b[1;32m~\\Anaconda3\\envs\\tfdeeplearning\\lib\\site-packages\\numpy\\core\\shape_base.py\u001b[0m in \u001b[0;36mvstack\u001b[1;34m(tup)\u001b[0m\n\u001b[0;32m    235\u001b[0m \u001b[1;33m\u001b[0m\u001b[0m\n\u001b[0;32m    236\u001b[0m     \"\"\"\n\u001b[1;32m--> 237\u001b[1;33m     \u001b[1;32mreturn\u001b[0m \u001b[0m_nx\u001b[0m\u001b[1;33m.\u001b[0m\u001b[0mconcatenate\u001b[0m\u001b[1;33m(\u001b[0m\u001b[1;33m[\u001b[0m\u001b[0matleast_2d\u001b[0m\u001b[1;33m(\u001b[0m\u001b[0m_m\u001b[0m\u001b[1;33m)\u001b[0m \u001b[1;32mfor\u001b[0m \u001b[0m_m\u001b[0m \u001b[1;32min\u001b[0m \u001b[0mtup\u001b[0m\u001b[1;33m]\u001b[0m\u001b[1;33m,\u001b[0m \u001b[1;36m0\u001b[0m\u001b[1;33m)\u001b[0m\u001b[1;33m\u001b[0m\u001b[0m\n\u001b[0m\u001b[0;32m    238\u001b[0m \u001b[1;33m\u001b[0m\u001b[0m\n\u001b[0;32m    239\u001b[0m \u001b[1;32mdef\u001b[0m \u001b[0mhstack\u001b[0m\u001b[1;33m(\u001b[0m\u001b[0mtup\u001b[0m\u001b[1;33m)\u001b[0m\u001b[1;33m:\u001b[0m\u001b[1;33m\u001b[0m\u001b[0m\n",
      "\u001b[1;31mKeyboardInterrupt\u001b[0m: "
     ]
    }
   ],
   "source": [
    "all_data= data.pop(0)['wave']\n",
    "\n",
    "for item in data:\n",
    "    all_data = np.vstack((all_data , item['wave']))"
   ]
  },
  {
   "cell_type": "markdown",
   "metadata": {},
   "source": [
    "### Training"
   ]
  },
  {
   "cell_type": "code",
   "execution_count": 96,
   "metadata": {
    "collapsed": true
   },
   "outputs": [],
   "source": [
    "init = tf.global_variables_initializer()"
   ]
  },
  {
   "cell_type": "code",
   "execution_count": 97,
   "metadata": {},
   "outputs": [],
   "source": [
    "from numpy import array"
   ]
  },
  {
   "cell_type": "code",
   "execution_count": 101,
   "metadata": {},
   "outputs": [
    {
     "name": "stdout",
     "output_type": "stream",
     "text": [
      "Epoch 0 Complete. Training Loss: 31.27850341796875\n",
      "Epoch 1 Complete. Training Loss: 31.27850341796875\n",
      "Epoch 2 Complete. Training Loss: 31.27850341796875\n",
      "Epoch 3 Complete. Training Loss: 31.27850341796875\n",
      "Epoch 4 Complete. Training Loss: 31.27850341796875\n"
     ]
    }
   ],
   "source": [
    "num_epochs = 5\n",
    "num_step = 750\n",
    "\n",
    "with tf.Session() as sess:\n",
    "    sess.run(init)\n",
    "    for epoch in range(num_epochs):\n",
    "#         test_batch = all_data[]\n",
    "#         test_arr = array(record['waveMax'].split(\",\"))\n",
    "        for counter in range(0,100):\n",
    "            current_counter = counter*100\n",
    "            end_counter = current_counter+100\n",
    "            current_batch = all_data[current_counter:end_counter]\n",
    "            sess.run(train,feed_dict={X:current_batch})\n",
    "        training_loss = loss.eval(feed_dict={X: current_batch})\n",
    "#             print(counter)\n",
    "        print(\"Epoch {} Complete. Training Loss: {}\".format(epoch,training_loss))\n",
    "    "
   ]
  },
  {
   "cell_type": "code",
   "execution_count": 29,
   "metadata": {},
   "outputs": [
    {
     "data": {
      "text/plain": [
       "array([[ 31. ,  -3.5,  -1.5, ...,  10.5,   2.5,  -1.5],\n",
       "       [-34.5,   1. ,   2. , ...,  -1.5,   9.5,   1. ],\n",
       "       [-17.5,  -4.5,  -8.5, ...,  -2. ,  -0.5,   8. ],\n",
       "       ..., \n",
       "       [ -0.5,   1.5,  11. , ...,  -4. ,   7.5,   0.5],\n",
       "       [ -0.5,  -0.5,  -0.5, ...,  -0.5,  -0.5,  -0.5],\n",
       "       [-10.5,   4.5,   2. , ...,   6. ,  -4. ,  -9.5]])"
      ]
     },
     "execution_count": 29,
     "metadata": {},
     "output_type": "execute_result"
    }
   ],
   "source": [
    "current_batch"
   ]
  },
  {
   "cell_type": "code",
   "execution_count": null,
   "metadata": {},
   "outputs": [],
   "source": [
    "all_data[0:20].shape"
   ]
  },
  {
   "cell_type": "code",
   "execution_count": null,
   "metadata": {},
   "outputs": [],
   "source": [
    "n = 10\n",
    "\n",
    "sum = 0\n",
    "for counter in range(0,750):\n",
    "    print (counter*25)\n"
   ]
  }
 ],
 "metadata": {
  "kernelspec": {
   "display_name": "Python 3",
   "language": "python",
   "name": "python3"
  },
  "language_info": {
   "codemirror_mode": {
    "name": "ipython",
    "version": 3
   },
   "file_extension": ".py",
   "mimetype": "text/x-python",
   "name": "python",
   "nbconvert_exporter": "python",
   "pygments_lexer": "ipython3",
   "version": "3.6.6"
  }
 },
 "nbformat": 4,
 "nbformat_minor": 2
}
