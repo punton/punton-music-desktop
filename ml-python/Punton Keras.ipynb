{
 "cells": [
  {
   "cell_type": "code",
   "execution_count": 123,
   "metadata": {},
   "outputs": [],
   "source": [
    "import numpy as np\n",
    "import keras\n",
    "from keras.models import Model\n",
    "from keras.models import Sequential\n",
    "from keras.layers import Dense, Dropout\n",
    "from keras.optimizers import Adadelta , RMSprop\n",
    "import matplotlib.pyplot as plt \n",
    "%matplotlib inline\n"
   ]
  },
  {
   "cell_type": "code",
   "execution_count": 59,
   "metadata": {},
   "outputs": [],
   "source": [
    "#Initilize Model\n",
    "model = Sequential()\n",
    "#Encoder\n",
    "model.add(Dense(1024,activation=\"relu\",input_shape=(1024,)))\n",
    "model.add(Dense(256,activation=\"relu\"))\n",
    "\n",
    "#Encoded\n",
    "model.add(Dense(128,activation=\"relu\",name=\"encoded_result\"))\n",
    "\n",
    "#Decoder\n",
    "model.add(Dense(256,activation=\"relu\"))\n",
    "model.add(Dense(512,activation=\"relu\"))\n",
    "model.add(Dense(1024,activation=\"relu\"))"
   ]
  },
  {
   "cell_type": "code",
   "execution_count": 16,
   "metadata": {},
   "outputs": [],
   "source": [
    "#Initialize Hyperparameter\n",
    "batch_size = 32\n",
    "epoch = 30\n"
   ]
  },
  {
   "cell_type": "code",
   "execution_count": 41,
   "metadata": {},
   "outputs": [],
   "source": [
    "#Loading Data\n",
    "import json"
   ]
  },
  {
   "cell_type": "code",
   "execution_count": 42,
   "metadata": {},
   "outputs": [],
   "source": [
    "with open('16ksongs.json',encoding='utf-8') as f:\n",
    "    data = json.load(f)\n"
   ]
  },
  {
   "cell_type": "code",
   "execution_count": 43,
   "metadata": {},
   "outputs": [
    {
     "ename": "ValueError",
     "evalue": "all the input array dimensions for the concatenation axis must match exactly, but along dimension 1, the array at index 0 has size 1024 and the array at index 1 has size 48",
     "output_type": "error",
     "traceback": [
      "\u001b[1;31m---------------------------------------------------------------------------\u001b[0m",
      "\u001b[1;31mValueError\u001b[0m                                Traceback (most recent call last)",
      "\u001b[1;32m<ipython-input-43-c52f88143e6f>\u001b[0m in \u001b[0;36m<module>\u001b[1;34m()\u001b[0m\n\u001b[0;32m     18\u001b[0m \u001b[1;33m\u001b[0m\u001b[0m\n\u001b[0;32m     19\u001b[0m \u001b[1;32mfor\u001b[0m \u001b[0mitem\u001b[0m \u001b[1;32min\u001b[0m \u001b[0mdata\u001b[0m\u001b[1;33m:\u001b[0m\u001b[1;33m\u001b[0m\u001b[0m\n\u001b[1;32m---> 20\u001b[1;33m     \u001b[0mall_data\u001b[0m \u001b[1;33m=\u001b[0m \u001b[0mnp\u001b[0m\u001b[1;33m.\u001b[0m\u001b[0mvstack\u001b[0m\u001b[1;33m(\u001b[0m\u001b[1;33m(\u001b[0m\u001b[0mall_data\u001b[0m \u001b[1;33m,\u001b[0m \u001b[0mitem\u001b[0m\u001b[1;33m[\u001b[0m\u001b[1;34m'wave'\u001b[0m\u001b[1;33m]\u001b[0m\u001b[1;33m)\u001b[0m\u001b[1;33m)\u001b[0m\u001b[1;33m\u001b[0m\u001b[0m\n\u001b[0m",
      "\u001b[1;32m<__array_function__ internals>\u001b[0m in \u001b[0;36mvstack\u001b[1;34m(*args, **kwargs)\u001b[0m\n",
      "\u001b[1;32m~\\AppData\\Local\\conda\\conda\\envs\\mining\\lib\\site-packages\\numpy\\core\\shape_base.py\u001b[0m in \u001b[0;36mvstack\u001b[1;34m(tup)\u001b[0m\n\u001b[0;32m    280\u001b[0m     \u001b[1;32mif\u001b[0m \u001b[1;32mnot\u001b[0m \u001b[0misinstance\u001b[0m\u001b[1;33m(\u001b[0m\u001b[0marrs\u001b[0m\u001b[1;33m,\u001b[0m \u001b[0mlist\u001b[0m\u001b[1;33m)\u001b[0m\u001b[1;33m:\u001b[0m\u001b[1;33m\u001b[0m\u001b[0m\n\u001b[0;32m    281\u001b[0m         \u001b[0marrs\u001b[0m \u001b[1;33m=\u001b[0m \u001b[1;33m[\u001b[0m\u001b[0marrs\u001b[0m\u001b[1;33m]\u001b[0m\u001b[1;33m\u001b[0m\u001b[0m\n\u001b[1;32m--> 282\u001b[1;33m     \u001b[1;32mreturn\u001b[0m \u001b[0m_nx\u001b[0m\u001b[1;33m.\u001b[0m\u001b[0mconcatenate\u001b[0m\u001b[1;33m(\u001b[0m\u001b[0marrs\u001b[0m\u001b[1;33m,\u001b[0m \u001b[1;36m0\u001b[0m\u001b[1;33m)\u001b[0m\u001b[1;33m\u001b[0m\u001b[0m\n\u001b[0m\u001b[0;32m    283\u001b[0m \u001b[1;33m\u001b[0m\u001b[0m\n\u001b[0;32m    284\u001b[0m \u001b[1;33m\u001b[0m\u001b[0m\n",
      "\u001b[1;32m<__array_function__ internals>\u001b[0m in \u001b[0;36mconcatenate\u001b[1;34m(*args, **kwargs)\u001b[0m\n",
      "\u001b[1;31mValueError\u001b[0m: all the input array dimensions for the concatenation axis must match exactly, but along dimension 1, the array at index 0 has size 1024 and the array at index 1 has size 48"
     ]
    }
   ],
   "source": [
    "for record in data:\n",
    "    newList = []\n",
    "    record['waveMax'] = record['waveMax'] [1:][:-1]\n",
    "    record['waveMin'] = record['waveMin'] [1:][:-1]\n",
    "    waveMax = record['waveMax'].split(\",\")\n",
    "    waveMin = record['waveMin'].split(\",\")\n",
    "    if len(waveMax) == 1025:\n",
    "        waveMax.pop()\n",
    "        waveMin.pop()\n",
    "    for index, value in enumerate(waveMax):\n",
    "        value = (float(waveMin[index])+float(waveMax[index]) )\n",
    "        value /= 2\n",
    "        newList.append(value)\n",
    "    record['wave'] = np.array(newList)\n",
    "#     print(record['name'])\n",
    "    \n",
    "all_data= data.pop(0)['wave']\n",
    "\n",
    "for item in data:\n",
    "    all_data = np.vstack((all_data , item['wave']))\n"
   ]
  },
  {
   "cell_type": "code",
   "execution_count": 55,
   "metadata": {},
   "outputs": [
    {
     "data": {
      "text/plain": [
       "(15793, 1024)"
      ]
     },
     "execution_count": 55,
     "metadata": {},
     "output_type": "execute_result"
    }
   ],
   "source": [
    "all_data.shape"
   ]
  },
  {
   "cell_type": "code",
   "execution_count": 60,
   "metadata": {},
   "outputs": [
    {
     "name": "stdout",
     "output_type": "stream",
     "text": [
      "_________________________________________________________________\n",
      "Layer (type)                 Output Shape              Param #   \n",
      "=================================================================\n",
      "dense_20 (Dense)             (None, 1024)              1049600   \n",
      "_________________________________________________________________\n",
      "dense_21 (Dense)             (None, 256)               262400    \n",
      "_________________________________________________________________\n",
      "encoded_result (Dense)       (None, 128)               32896     \n",
      "_________________________________________________________________\n",
      "dense_22 (Dense)             (None, 256)               33024     \n",
      "_________________________________________________________________\n",
      "dense_23 (Dense)             (None, 512)               131584    \n",
      "_________________________________________________________________\n",
      "dense_24 (Dense)             (None, 1024)              525312    \n",
      "=================================================================\n",
      "Total params: 2,034,816\n",
      "Trainable params: 2,034,816\n",
      "Non-trainable params: 0\n",
      "_________________________________________________________________\n"
     ]
    }
   ],
   "source": [
    "model.summary()"
   ]
  },
  {
   "cell_type": "code",
   "execution_count": 68,
   "metadata": {},
   "outputs": [],
   "source": [
    "model.compile(optimizer='adadelta', loss='binary_crossentropy')\n"
   ]
  },
  {
   "cell_type": "code",
   "execution_count": 71,
   "metadata": {},
   "outputs": [
    {
     "name": "stdout",
     "output_type": "stream",
     "text": [
      "Train on 15793 samples, validate on 15793 samples\n",
      "Epoch 1/100\n",
      "15793/15793 [==============================] - 5s 301us/step - loss: -5.4619 - val_loss: -5.4765\n",
      "Epoch 2/100\n",
      "15793/15793 [==============================] - 4s 281us/step - loss: -5.4625 - val_loss: -5.4582\n",
      "Epoch 3/100\n",
      "15793/15793 [==============================] - 4s 281us/step - loss: -5.6030 - val_loss: -5.7141\n",
      "Epoch 4/100\n",
      "15793/15793 [==============================] - 4s 282us/step - loss: -5.8499 - val_loss: -6.0248\n",
      "Epoch 5/100\n",
      "15793/15793 [==============================] - 4s 281us/step - loss: -6.0846 - val_loss: -6.0347\n",
      "Epoch 6/100\n",
      "15793/15793 [==============================] - 4s 281us/step - loss: -5.9807 - val_loss: -5.8715\n",
      "Epoch 7/100\n",
      "15793/15793 [==============================] - 5s 289us/step - loss: -5.8523 - val_loss: -5.8390\n",
      "Epoch 8/100\n",
      "15793/15793 [==============================] - 4s 285us/step - loss: -5.7543 - val_loss: -5.7322\n",
      "Epoch 9/100\n",
      "15793/15793 [==============================] - 5s 292us/step - loss: -5.7584 - val_loss: -5.5609\n",
      "Epoch 10/100\n",
      "15793/15793 [==============================] - 5s 304us/step - loss: -5.5247 - val_loss: -5.5889\n",
      "Epoch 11/100\n",
      "15793/15793 [==============================] - 5s 296us/step - loss: -5.5768 - val_loss: -5.5650\n",
      "Epoch 12/100\n",
      "15793/15793 [==============================] - 5s 316us/step - loss: -5.3957 - val_loss: -5.3515\n",
      "Epoch 13/100\n",
      "15793/15793 [==============================] - 5s 315us/step - loss: -5.3515 - val_loss: -5.3515\n",
      "Epoch 14/100\n",
      "15793/15793 [==============================] - 5s 297us/step - loss: -5.3515 - val_loss: -5.3515\n",
      "Epoch 15/100\n",
      "15793/15793 [==============================] - 5s 300us/step - loss: -5.3515 - val_loss: -5.3515\n",
      "Epoch 16/100\n",
      "15793/15793 [==============================] - 5s 295us/step - loss: -5.3515 - val_loss: -5.3515\n",
      "Epoch 17/100\n",
      "15793/15793 [==============================] - 5s 286us/step - loss: -5.3515 - val_loss: -5.3515\n",
      "Epoch 18/100\n",
      "15793/15793 [==============================] - 5s 291us/step - loss: -5.3515 - val_loss: -5.3515\n",
      "Epoch 19/100\n",
      "15793/15793 [==============================] - 5s 289us/step - loss: -5.3515 - val_loss: -5.3515\n",
      "Epoch 20/100\n",
      "15793/15793 [==============================] - 5s 289us/step - loss: -5.3515 - val_loss: -5.3515\n",
      "Epoch 21/100\n",
      "15793/15793 [==============================] - 5s 289us/step - loss: -5.3515 - val_loss: -5.3515\n",
      "Epoch 22/100\n",
      "15793/15793 [==============================] - 5s 293us/step - loss: -5.3515 - val_loss: -5.3515\n",
      "Epoch 23/100\n",
      "15793/15793 [==============================] - 5s 289us/step - loss: -5.3515 - val_loss: -5.3515\n",
      "Epoch 24/100\n",
      "15793/15793 [==============================] - 5s 289us/step - loss: -5.3515 - val_loss: -5.3515\n",
      "Epoch 25/100\n",
      "15793/15793 [==============================] - 5s 286us/step - loss: -5.3515 - val_loss: -5.3515\n",
      "Epoch 26/100\n",
      "15793/15793 [==============================] - 5s 285us/step - loss: -5.3515 - val_loss: -5.3515\n",
      "Epoch 27/100\n",
      "15793/15793 [==============================] - 5s 286us/step - loss: -5.3515 - val_loss: -5.3515\n",
      "Epoch 28/100\n",
      "15793/15793 [==============================] - 5s 316us/step - loss: -5.3515 - val_loss: -5.3515\n",
      "Epoch 29/100\n",
      "15793/15793 [==============================] - 6s 381us/step - loss: -5.3515 - val_loss: -5.3515\n",
      "Epoch 30/100\n",
      "15793/15793 [==============================] - 6s 365us/step - loss: -5.3515 - val_loss: -5.3515\n",
      "Epoch 31/100\n",
      "15793/15793 [==============================] - 7s 416us/step - loss: -5.3515 - val_loss: -5.3515\n",
      "Epoch 32/100\n",
      "15793/15793 [==============================] - 5s 328us/step - loss: -5.3515 - val_loss: -5.3515\n",
      "Epoch 33/100\n",
      "15793/15793 [==============================] - 5s 326us/step - loss: -5.3515 - val_loss: -5.3515\n",
      "Epoch 34/100\n",
      "15793/15793 [==============================] - 6s 408us/step - loss: -5.3515 - val_loss: -5.3515\n",
      "Epoch 35/100\n",
      "15793/15793 [==============================] - 6s 395us/step - loss: -5.3515 - val_loss: -5.3515\n",
      "Epoch 36/100\n",
      "15793/15793 [==============================] - 6s 385us/step - loss: -5.3515 - val_loss: -5.3515\n",
      "Epoch 37/100\n",
      "15793/15793 [==============================] - 5s 321us/step - loss: -5.3515 - val_loss: -5.3515\n",
      "Epoch 38/100\n",
      "15793/15793 [==============================] - 5s 317us/step - loss: -5.3515 - val_loss: -5.3515\n",
      "Epoch 39/100\n",
      "15793/15793 [==============================] - 5s 334us/step - loss: -5.3515 - val_loss: -5.3515\n",
      "Epoch 40/100\n",
      "15793/15793 [==============================] - 5s 327us/step - loss: -5.3515 - val_loss: -5.3515\n",
      "Epoch 41/100\n",
      "15793/15793 [==============================] - 5s 327us/step - loss: -5.3515 - val_loss: -5.3515\n",
      "Epoch 42/100\n",
      "15793/15793 [==============================] - 5s 325us/step - loss: -5.3515 - val_loss: -5.3515\n",
      "Epoch 43/100\n",
      "15793/15793 [==============================] - 5s 323us/step - loss: -5.3515 - val_loss: -5.3515\n",
      "Epoch 44/100\n",
      "15793/15793 [==============================] - 5s 320us/step - loss: -5.3515 - val_loss: -5.3515\n",
      "Epoch 45/100\n",
      "15793/15793 [==============================] - 5s 316us/step - loss: -5.3515 - val_loss: -5.3515\n",
      "Epoch 46/100\n",
      "15793/15793 [==============================] - 5s 323us/step - loss: -5.3515 - val_loss: -5.3515\n",
      "Epoch 47/100\n",
      "15793/15793 [==============================] - 5s 323us/step - loss: -5.3515 - val_loss: -5.3515\n",
      "Epoch 48/100\n",
      "15793/15793 [==============================] - 5s 322us/step - loss: -5.3515 - val_loss: -5.3515\n",
      "Epoch 49/100\n",
      "15793/15793 [==============================] - 5s 324us/step - loss: -5.3515 - val_loss: -5.3515\n",
      "Epoch 50/100\n",
      "15793/15793 [==============================] - 5s 322us/step - loss: -5.3515 - val_loss: -5.3515\n",
      "Epoch 51/100\n",
      "15793/15793 [==============================] - 5s 294us/step - loss: -5.3515 - val_loss: -5.3515\n",
      "Epoch 52/100\n",
      "15793/15793 [==============================] - 5s 294us/step - loss: -5.3515 - val_loss: -5.3515\n",
      "Epoch 53/100\n",
      "15793/15793 [==============================] - 5s 287us/step - loss: -5.3515 - val_loss: -5.3515\n",
      "Epoch 54/100\n",
      "15793/15793 [==============================] - 5s 303us/step - loss: -5.3515 - val_loss: -5.3515\n",
      "Epoch 55/100\n",
      "15793/15793 [==============================] - 5s 333us/step - loss: -5.3515 - val_loss: -5.3515\n",
      "Epoch 56/100\n",
      "15793/15793 [==============================] - 5s 298us/step - loss: -5.3515 - val_loss: -5.3515\n",
      "Epoch 57/100\n",
      "15793/15793 [==============================] - 5s 293us/step - loss: -5.3515 - val_loss: -5.3515\n",
      "Epoch 58/100\n",
      "15793/15793 [==============================] - 6s 355us/step - loss: -5.3515 - val_loss: -5.3515\n",
      "Epoch 59/100\n",
      "15793/15793 [==============================] - 5s 303us/step - loss: -5.3515 - val_loss: -5.3515\n",
      "Epoch 60/100\n",
      "15793/15793 [==============================] - 6s 360us/step - loss: -5.3515 - val_loss: -5.3515\n",
      "Epoch 61/100\n",
      "15793/15793 [==============================] - 5s 332us/step - loss: -5.3515 - val_loss: -5.3515\n",
      "Epoch 62/100\n",
      "15793/15793 [==============================] - 5s 333us/step - loss: -5.3515 - val_loss: -5.3515\n",
      "Epoch 63/100\n",
      "15793/15793 [==============================] - 6s 366us/step - loss: -5.3515 - val_loss: -5.3515\n",
      "Epoch 64/100\n",
      "15793/15793 [==============================] - 5s 332us/step - loss: -5.3515 - val_loss: -5.3515\n",
      "Epoch 65/100\n",
      "15793/15793 [==============================] - 5s 326us/step - loss: -5.3515 - val_loss: -5.3515\n",
      "Epoch 66/100\n",
      "15793/15793 [==============================] - 5s 321us/step - loss: -5.3515 - val_loss: -5.3515\n",
      "Epoch 67/100\n",
      "15793/15793 [==============================] - 5s 327us/step - loss: -5.3515 - val_loss: -5.3515\n",
      "Epoch 68/100\n",
      "15793/15793 [==============================] - 5s 326us/step - loss: -5.3515 - val_loss: -5.3515\n",
      "Epoch 69/100\n",
      "15793/15793 [==============================] - 5s 333us/step - loss: -5.3515 - val_loss: -5.3515\n",
      "Epoch 70/100\n",
      "15793/15793 [==============================] - 5s 326us/step - loss: -5.3515 - val_loss: -5.3515\n",
      "Epoch 71/100\n",
      "15793/15793 [==============================] - 5s 333us/step - loss: -5.3515 - val_loss: -5.3515\n",
      "Epoch 72/100\n",
      "15793/15793 [==============================] - 5s 331us/step - loss: -5.3515 - val_loss: -5.3515\n",
      "Epoch 73/100\n",
      "15793/15793 [==============================] - 5s 332us/step - loss: -5.3515 - val_loss: -5.3515\n",
      "Epoch 74/100\n",
      "15793/15793 [==============================] - 5s 329us/step - loss: -5.3515 - val_loss: -5.3515\n",
      "Epoch 75/100\n"
     ]
    },
    {
     "name": "stdout",
     "output_type": "stream",
     "text": [
      "15793/15793 [==============================] - 5s 332us/step - loss: -5.3515 - val_loss: -5.3515\n",
      "Epoch 76/100\n",
      "15793/15793 [==============================] - 5s 339us/step - loss: -5.3515 - val_loss: -5.3515\n",
      "Epoch 77/100\n",
      "15793/15793 [==============================] - 5s 343us/step - loss: -5.3515 - val_loss: -5.3515\n",
      "Epoch 78/100\n",
      "15793/15793 [==============================] - 5s 313us/step - loss: -5.3515 - val_loss: -5.3515\n",
      "Epoch 79/100\n",
      "15793/15793 [==============================] - 5s 290us/step - loss: -5.3515 - val_loss: -5.3515\n",
      "Epoch 80/100\n",
      "15793/15793 [==============================] - 5s 295us/step - loss: -5.3515 - val_loss: -5.3515\n",
      "Epoch 81/100\n",
      "15793/15793 [==============================] - 5s 308us/step - loss: -5.3515 - val_loss: -5.3515\n",
      "Epoch 82/100\n",
      "15793/15793 [==============================] - 5s 322us/step - loss: -5.3515 - val_loss: -5.3515\n",
      "Epoch 83/100\n",
      "15793/15793 [==============================] - 5s 322us/step - loss: -5.3515 - val_loss: -5.3515\n",
      "Epoch 84/100\n",
      "15793/15793 [==============================] - 5s 327us/step - loss: -5.3515 - val_loss: -5.3515\n",
      "Epoch 85/100\n",
      "15793/15793 [==============================] - 5s 294us/step - loss: -5.3515 - val_loss: -5.3515\n",
      "Epoch 86/100\n",
      "15793/15793 [==============================] - 6s 354us/step - loss: -5.3515 - val_loss: -5.3515\n",
      "Epoch 87/100\n",
      "15793/15793 [==============================] - 5s 303us/step - loss: -5.3515 - val_loss: -5.3515\n",
      "Epoch 88/100\n",
      "15793/15793 [==============================] - 5s 311us/step - loss: -5.3515 - val_loss: -5.3515\n",
      "Epoch 89/100\n",
      "15793/15793 [==============================] - 5s 322us/step - loss: -5.3515 - val_loss: -5.3515\n",
      "Epoch 90/100\n",
      "15793/15793 [==============================] - 5s 298us/step - loss: -5.3515 - val_loss: -5.3515\n",
      "Epoch 91/100\n",
      "15793/15793 [==============================] - 5s 292us/step - loss: -5.3515 - val_loss: -5.3515\n",
      "Epoch 92/100\n",
      "15793/15793 [==============================] - 5s 296us/step - loss: -5.3515 - val_loss: -5.3515\n",
      "Epoch 93/100\n",
      "15793/15793 [==============================] - 5s 310us/step - loss: -5.3515 - val_loss: -5.3515\n",
      "Epoch 94/100\n",
      "15793/15793 [==============================] - 5s 306us/step - loss: -5.3515 - val_loss: -5.3515\n",
      "Epoch 95/100\n",
      "15793/15793 [==============================] - 5s 307us/step - loss: -5.3515 - val_loss: -5.3515\n",
      "Epoch 96/100\n",
      "15793/15793 [==============================] - 5s 313us/step - loss: -5.3515 - val_loss: -5.3515\n",
      "Epoch 97/100\n",
      "15793/15793 [==============================] - 5s 311us/step - loss: -5.3515 - val_loss: -5.3515\n",
      "Epoch 98/100\n",
      "15793/15793 [==============================] - 5s 306us/step - loss: -5.3515 - val_loss: -5.3515\n",
      "Epoch 99/100\n",
      "15793/15793 [==============================] - 5s 319us/step - loss: -5.3515 - val_loss: -5.3515\n",
      "Epoch 100/100\n",
      "15793/15793 [==============================] - 5s 320us/step - loss: -5.3515 - val_loss: -5.3515\n"
     ]
    },
    {
     "data": {
      "text/plain": [
       "<keras.callbacks.History at 0x228361e4cc0>"
      ]
     },
     "execution_count": 71,
     "metadata": {},
     "output_type": "execute_result"
    }
   ],
   "source": [
    "model.fit(all_data,all_data,epochs=100,batch_size=32,validation_data=(all_data,all_data))"
   ]
  },
  {
   "cell_type": "code",
   "execution_count": 72,
   "metadata": {},
   "outputs": [],
   "source": [
    "model.save('punton_keras.h5')\n"
   ]
  },
  {
   "cell_type": "code",
   "execution_count": 84,
   "metadata": {},
   "outputs": [],
   "source": [
    "#Load song to test\n",
    "with open('songs.json',encoding='utf-8') as f:\n",
    "    test = json.load(f)\n"
   ]
  },
  {
   "cell_type": "code",
   "execution_count": 85,
   "metadata": {},
   "outputs": [],
   "source": [
    "for record in test:\n",
    "    newList = []\n",
    "    record['waveMax'] = record['waveMax'] [1:][:-1]\n",
    "    record['waveMin'] = record['waveMin'] [1:][:-1]\n",
    "    waveMax = record['waveMax'].split(\",\")\n",
    "    waveMin = record['waveMin'].split(\",\")\n",
    "    if len(waveMax) == 1025:\n",
    "        waveMax.pop()\n",
    "        waveMin.pop()\n",
    "    for index, value in enumerate(waveMax):\n",
    "        value = (float(waveMin[index])+float(waveMax[index]) )\n",
    "        value /= 2\n",
    "        newList.append(value)\n",
    "    record['wave'] = np.array(newList)\n",
    "#     print(record['name'])\n",
    "    \n",
    "test_song = data.pop(0)['wave']\n",
    "\n",
    "for item in test:\n",
    "    test_song = np.vstack((test_song , item['wave']))\n"
   ]
  },
  {
   "cell_type": "code",
   "execution_count": 86,
   "metadata": {},
   "outputs": [
    {
     "data": {
      "text/plain": [
       "array([[ 0. ,  1. ,  0. , ..., -1. , -2. ,  0. ],\n",
       "       [-0.5, -2.5, -0.5, ...,  0. ,  0. ,  0. ],\n",
       "       [ 0. , -0.5,  0.5, ...,  0. ,  0. ,  0. ],\n",
       "       ...,\n",
       "       [ 0. , -0.5,  0.5, ...,  0. ,  0. ,  0. ],\n",
       "       [ 0. , -1. , -0.5, ..., -0.5, -0.5,  0. ],\n",
       "       [ 0. , -0.5,  3.5, ...,  0. ,  0. ,  0. ]])"
      ]
     },
     "execution_count": 86,
     "metadata": {},
     "output_type": "execute_result"
    }
   ],
   "source": [
    "test_song"
   ]
  },
  {
   "cell_type": "code",
   "execution_count": 118,
   "metadata": {},
   "outputs": [],
   "source": [
    "result = model.predict(test_song)"
   ]
  },
  {
   "cell_type": "code",
   "execution_count": 109,
   "metadata": {},
   "outputs": [
    {
     "data": {
      "text/plain": [
       "array([ 0.,  2., -1., ...,  0.,  0.,  0.])"
      ]
     },
     "execution_count": 109,
     "metadata": {},
     "output_type": "execute_result"
    }
   ],
   "source": [
    "test_song[3]"
   ]
  },
  {
   "cell_type": "code",
   "execution_count": 126,
   "metadata": {},
   "outputs": [],
   "source": [
    "intermediate_layer_model = Sequential()\n",
    "middle_layer = 'encoded_result'\n",
    "intermediate_layer_model = Model(inputs=model.input,\n",
    "                                 outputs=model.get_layer(middle_layer).output)\n",
    "intermediate_output = intermediate_layer_model.predict(test_song)"
   ]
  },
  {
   "cell_type": "code",
   "execution_count": 127,
   "metadata": {},
   "outputs": [
    {
     "data": {
      "text/plain": [
       "array([[   0.    ,  983.2123,    0.    , ...,    0.    , 1182.421 ,\n",
       "        1069.9945],\n",
       "       [   0.    , 2035.8523,    0.    , ...,    0.    , 2425.7837,\n",
       "        2192.6753],\n",
       "       [   0.    ,  997.5575,    0.    , ...,    0.    , 1186.1327,\n",
       "        1076.0348],\n",
       "       ...,\n",
       "       [   0.    , 1075.3263,    0.    , ...,    0.    , 1279.5514,\n",
       "        1161.4053],\n",
       "       [   0.    , 3086.95  ,    0.    , ...,    0.    , 3714.0874,\n",
       "        3360.8699],\n",
       "       [   0.    , 2733.453 ,    0.    , ...,    0.    , 3278.7993,\n",
       "        2969.6372]], dtype=float32)"
      ]
     },
     "execution_count": 127,
     "metadata": {},
     "output_type": "execute_result"
    }
   ],
   "source": [
    "intermediate_output"
   ]
  }
 ],
 "metadata": {
  "kernelspec": {
   "display_name": "Python 3",
   "language": "python",
   "name": "python3"
  },
  "language_info": {
   "codemirror_mode": {
    "name": "ipython",
    "version": 3
   },
   "file_extension": ".py",
   "mimetype": "text/x-python",
   "name": "python",
   "nbconvert_exporter": "python",
   "pygments_lexer": "ipython3",
   "version": "3.6.6"
  }
 },
 "nbformat": 4,
 "nbformat_minor": 2
}
